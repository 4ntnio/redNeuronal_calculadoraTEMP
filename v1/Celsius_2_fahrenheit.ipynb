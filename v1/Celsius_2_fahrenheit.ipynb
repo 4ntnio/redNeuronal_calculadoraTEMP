{
  "nbformat": 4,
  "nbformat_minor": 0,
  "metadata": {
    "colab": {
      "name": "Celsius-2-fahrenheit.ipynb",
      "provenance": [],
      "authorship_tag": "ABX9TyOk9+XAH+ZCpp2fKdaQASGk",
      "include_colab_link": true
    },
    "kernelspec": {
      "name": "python3",
      "display_name": "Python 3"
    },
    "language_info": {
      "name": "python"
    }
  },
  "cells": [
    {
      "cell_type": "markdown",
      "metadata": {
        "id": "view-in-github",
        "colab_type": "text"
      },
      "source": [
        "<a href=\"https://colab.research.google.com/github/4ntnio/redNeuronal_calculadoraTEMP/blob/main/v1/Celsius_2_fahrenheit.ipynb\" target=\"_parent\"><img src=\"https://colab.research.google.com/assets/colab-badge.svg\" alt=\"Open In Colab\"/></a>"
      ]
    },
    {
      "cell_type": "markdown",
      "source": [
        "Programa para calcular grados celsius utilizando una **red Neuronal** con librerias de TensorFlow"
      ],
      "metadata": {
        "id": "SjEY9JHlhBxt"
      }
    },
    {
      "cell_type": "code",
      "metadata": {
        "id": "RZtXL1rrQ0XY"
      },
      "source": [
        "import tensorflow as tf \n",
        "import numpy as np # para arreglos numericos"
      ],
      "execution_count": 2,
      "outputs": []
    },
    {
      "cell_type": "code",
      "metadata": {
        "id": "kOusW6J9RGil"
      },
      "source": [
        "celsius = np.array([-40, -10, 0, 8, 15, 22, 38], dtype=float)\n",
        "fahrenheit = np.array([-40, 14, 32, 46, 59, 72, 100], dtype=float)"
      ],
      "execution_count": 3,
      "outputs": []
    },
    {
      "cell_type": "code",
      "metadata": {
        "id": "SoQGbL7OSBMh"
      },
      "source": [
        "# Proceso con 1 capa \n",
        "#capa = tf.keras.layers.Dense(units=1, input_shape=[1]) #KERAS nos ayuda a hacer la red neuronal de forma simple\n",
        "#modelo = tf.keras.Sequential([capa])\n",
        "\n",
        "# Proceso con 2 capas\n",
        "# tipo de capa DENSE es el tipo de neurona que tiene conexión con cada una de las neuronas de la siguiente capa\n",
        "# el ejemplo es sencillo\n",
        "oculta1 = tf.keras.layers.Dense(units=3, input_shape=[1])\n",
        "oculta2 = tf.keras.layers.Dense(units=3)\n",
        "salida = tf.keras.layers.Dense(units=1)\n",
        "\n",
        "modelo = tf.keras.Sequential([oculta1, oculta2, salida])"
      ],
      "execution_count": 4,
      "outputs": []
    },
    {
      "cell_type": "code",
      "metadata": {
        "id": "kJwJCH29URQD"
      },
      "source": [
        "# Se indica el optimizador y la dunción de perdida\n",
        "modelo.compile(\n",
        "    optimizer=tf.keras.optimizers.Adam(0.1),\n",
        "    loss='mean_squared_error'\n",
        ")"
      ],
      "execution_count": 5,
      "outputs": []
    },
    {
      "cell_type": "code",
      "metadata": {
        "colab": {
          "base_uri": "https://localhost:8080/"
        },
        "id": "pMegqY5CWPZH",
        "outputId": "6b3b4e30-05ae-4302-b9b5-99188d6e458e"
      },
      "source": [
        "print(\"comenzando el entrenamiento\")\n",
        "historial = modelo.fit(celsius, fahrenheit, epochs=2000, verbose=False)\n",
        "print(\"Modelo entrenado!\")"
      ],
      "execution_count": 6,
      "outputs": [
        {
          "output_type": "stream",
          "name": "stdout",
          "text": [
            "comenzando el entrenamiento\n",
            "Modelo entrenado!\n"
          ]
        }
      ]
    },
    {
      "cell_type": "code",
      "metadata": {
        "colab": {
          "base_uri": "https://localhost:8080/",
          "height": 296
        },
        "id": "wPwnQSuKW1ha",
        "outputId": "7d86a1b1-9117-406a-e535-ea6781b41c72"
      },
      "source": [
        "import matplotlib.pyplot as plt\n",
        "plt.xlabel(\"# Epoca\")\n",
        "plt.ylabel(\"Magnitud de pérdida\")\n",
        "plt.plot(historial.history[\"loss\"])"
      ],
      "execution_count": 7,
      "outputs": [
        {
          "output_type": "execute_result",
          "data": {
            "text/plain": [
              "[<matplotlib.lines.Line2D at 0x7f5d943e0310>]"
            ]
          },
          "metadata": {},
          "execution_count": 7
        },
        {
          "output_type": "display_data",
          "data": {
            "text/plain": [
              "<Figure size 432x288 with 1 Axes>"
            ],
            "image/png": "[encoded data removed]"
          },
          "metadata": {
            "needs_background": "light"
          }
        }
      ]
    },
    {
      "cell_type": "code",
      "metadata": {
        "colab": {
          "base_uri": "https://localhost:8080/"
        },
        "id": "A2Qi91fRXuke",
        "outputId": "18d0ee25-39ba-4caf-b428-9f3fed49731b"
      },
      "source": [
        "print(\"Hagamos una predicción!\")\n",
        "resultado = modelo.predict([32.0])\n",
        "print(\"El resultado es \" + str(resultado) + \" fahrenheit!\")"
      ],
      "execution_count": 8,
      "outputs": [
        {
          "output_type": "stream",
          "name": "stdout",
          "text": [
            "Hagamos una predicción!\n",
            "El resultado es [[89.48687]] fahrenheit!\n"
          ]
        }
      ]
    },
    {
      "cell_type": "code",
      "metadata": {
        "colab": {
          "base_uri": "https://localhost:8080/"
        },
        "id": "R5B9XYoAYIX0",
        "outputId": "995eb961-f7a6-4e4f-88ac-5db8f5ba73ab"
      },
      "source": [
        "print(\"Variables internas del modelo\")\n",
        "#print(oculta1.get_weights())\n",
        "\n",
        "# Imprime los pesos finales despues de n epocas de entrenamiento\n",
        "print(oculta1.get_weights())\n",
        "print(oculta2.get_weights())\n",
        "print(salida.get_weights())"
      ],
      "execution_count": 11,
      "outputs": [
        {
          "output_type": "stream",
          "name": "stdout",
          "text": [
            "Variables internas del modelo\n",
            "[array([[-0.42606065, -0.4655097 , -0.32666674]], dtype=float32), array([-3.480016 , -3.7843359,  2.2184553], dtype=float32)]\n",
            "[array([[-0.7343685 , -0.5261428 , -0.82965857],\n",
            "       [-0.8457218 , -0.02630219, -1.4847543 ],\n",
            "       [ 0.24291286,  1.2591927 ,  0.49985334]], dtype=float32), array([3.2641077, 0.5839057, 3.6677358], dtype=float32)]\n",
            "[array([[0.76102346],\n",
            "       [0.16111596],\n",
            "       [1.5303475 ]], dtype=float32), array([3.4955366], dtype=float32)]\n"
          ]
        }
      ]
    }
  ]
}